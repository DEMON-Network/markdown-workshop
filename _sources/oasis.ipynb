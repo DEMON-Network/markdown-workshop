{
 "cells": [
  {
   "cell_type": "markdown",
   "metadata": {
    "id": "T6EeF_JSqkGr"
   },
   "source": [
    "# Literate programming, Markdown & Colab\n",
    "\n",
    "Let's start with the definition of literate programming (from Wikipedia):\n",
    "\n",
    "> *Literate programming is a programming paradigm introduced by Donald Knuth in which a computer program is given an explanation of its logic in a natural language, such as English, interspersed with snippets of macros and traditional source code, from which compilable source code can be generated.*\n",
    "\n",
    "Jupyter notebook is a method for performing literate programming and is a powerful way of presenting your analysis in a way that's easy to code and easy to read. The \"snippets of source code\" are your Python syntax. The \"explanation of the its logic in a natural language\" is your analysis report.\n",
    "\n",
    "This lesson will draw heavily from the following excellent resources:\n",
    "\n",
    "\n",
    "* [Welcome To Colaboratory](https://colab.research.google.com/notebooks/intro.ipynb?utm_source=scs-index) - An extensive tutorial\n",
    "* [Reference (pdf)](https://rstudio.com/wp-content/uploads/2015/03/rmarkdown-reference.pdf) - A 5 page reference of commands and concepts. \n",
    "* [Cheatsheet (pdf)](https://rstudio.com/wp-content/uploads/2016/03/rmarkdown-cheatsheet-2.0.pdf) - A 2 page summary of the most important elements."
   ]
  },
  {
   "cell_type": "markdown",
   "metadata": {
    "id": "CSv3EawirKZM"
   },
   "source": [
    "## Markdown - what is it?\n",
    "\n",
    "**Markdown** is a simple plain-text language that can be turned into formatted text, e.g., webpages, forum posts (stackexchange, Github) etc. \n",
    "\n",
    "**Markdown** allows you to incorporate code  within the\n",
    "final document. It can be turned into HTML, pdfs, word documents, books, theses etc. as well. \n",
    "\n",
    "This course is written in `Markdown`. "
   ]
  },
  {
   "cell_type": "markdown",
   "metadata": {
    "id": "CNY2FyL2sdA5"
   },
   "source": [
    "## Markdown -  what's it good for?\n",
    "\n",
    "Consider your normal data analysis workflow. It's probably something like this:\n",
    "\n",
    "**1. Conventional workflow**\n",
    "1. Do some data analysis in an `python` script. Use comments to help reader understand. \n",
    "2. Save plots, tables, etc. in separate files (`fig1.png`, `tab1.csv`, etc.). \n",
    "2. Write report in Word and insert figures, tables etc. \n",
    "\n",
    "*Updating/changing analysis*: Edit `python` scripts, Word document, insert figures, potentially change figure lables, `fig1.png`-> `fig2.png` etc..  \n",
    "\n",
    "*Sharing analysis*: Share data, R scripts, plots, tables, Word/Latex files. Also include how all the parts relate to each other in a README. \n",
    "\n",
    "With `Colab` your workflow will be more like this: \n",
    "\n",
    "**2. Literate programming workflow**\n",
    "1. Do some data analysis in an `Colab` Notebook. All figures, tables are displayed in line - no need to save sepate files.  \n",
    "2. Write your report around the code in the `Colab` file. The narrative of the analysis helps the reader understand the code.  \n",
    "3. One-click to create formatted Word/HTML/pdf report, or, one-click to publish to the web (requires setup - not covered in this course).  \n",
    "\n",
    "*Updating/changing analysis*: Edit the single `Colab` file and click to create report. \n",
    "\n",
    "*Sharing analysis*: Share data and the single `Colab` file. \n",
    "\n",
    "This difference can be seen in the figure below which shows two directory structures the top \n",
    "with the conventional workflow, the bottom with the literate programming workflow. \n",
    "\n",
    "<!-- ![comparison](../fig/literate_vs_conventional.png) -->\n",
    "\n",
    "Of course for larger projects, you may have more than one `Colab` file and you may have separate analysis scripts as well. "
   ]
  },
  {
   "cell_type": "markdown",
   "metadata": {
    "id": "abdfz3mTvJZp"
   },
   "source": [
    "## Goals for this notebook\n",
    "This notebook will familiarise you with all the main features of working with Jupyter Notebooks or Google Colab. \n",
    "\n",
    "We will be demonstrating the following features:\n",
    "1. Setting up a notebook on Google Colab\n",
    "2. Exporting this notebook as a PDF file"
   ]
  },
  {
   "cell_type": "markdown",
   "metadata": {
    "id": "B0_EwCYgvSVr"
   },
   "source": [
    "# Notebooks depend on kernels \n",
    "\n",
    "If you're using Jupyter Lab locally or from a host provider, kernels are a big issue because it allows you to use the same notebook infrastructure across different programming languages (e.g. R, Python, Bash, Javascript etc).\n",
    "\n",
    "At the moment, Colab does not support these capabilities and only supports Python, but it's useful to know."
   ]
  },
  {
   "cell_type": "markdown",
   "metadata": {
    "id": "EF8eVdlSvVAM"
   },
   "source": [
    "# Analysis is contained within notebooks \n",
    "\n",
    "The `notebook` keeps track of settings tied to a particular data analysis project. It consists of a list of cells containing either explanatory text or executable code with its output.\n",
    " \n",
    "A folder hierarchy is common when starting a new project, which contains all the relevant data for others to replicate your work.\n",
    "\n",
    "When creating notebooks, it is good practice to use consistent naming conventions so that different information can be included, such as the topic of analysis, the date of creation, and the notebook creator.\n",
    "\n",
    "You can keep working on your project by just opening up the relevant Jupyter notebook in the corresponding folder."
   ]
  },
  {
   "cell_type": "markdown",
   "metadata": {
    "id": "pVUbmTUxvY8G"
   },
   "source": [
    "## Setting up a new `Python` project using `Colab`\n",
    "\n",
    "1. Just click [here](https://colab.research.google.com/#create=true) to spawn a new Jupyter notebook in Colab\n",
    "2. Change the notebook name at the top to e.g. `oasis.ipynb`\n",
    "3. Then you are ready for the main [exercise](https://demon-network.github.io/markdown-workshop/python_exercise.html)!\n",
    "\n",
    "Before diving into that, we need to make sure that the we can export the PDF properly."
   ]
  },
  {
   "cell_type": "markdown",
   "metadata": {
    "id": "qrYvIjvPwL8S"
   },
   "source": [
    "## Working on a specific folder in drive\n",
    "\n",
    "The following step is technically not necessary if you intend to just use Colab right away as a normal Jupyter notebook.\n",
    "\n",
    "However, since Colab is storing its work on your hard drive, it would be a good idea to specify which folder it will be using.\n",
    "\n",
    "We will create a folder in your drive and then move our new Colab notebook inside that folder."
   ]
  },
  {
   "cell_type": "markdown",
   "metadata": {
    "id": "-yCjXhVOwOnJ"
   },
   "source": [
    "First, mount your drive in the Colab container.\n",
    "\n",
    "The following code can also be used to mount your entire drive so it is accessible from your notebook (this requires a gmail account and your approval):\n",
    "\n",
    "```python\n",
    "from google.colab import drive\n",
    "\n",
    "drive.mount('/content/gdrive')\n",
    "```"
   ]
  },
  {
   "cell_type": "markdown",
   "metadata": {
    "id": "blG8Cjq8nqDG"
   },
   "source": [
    "Let's run it ourselves:"
   ]
  },
  {
   "cell_type": "code",
   "execution_count": 1,
   "metadata": {
    "colab": {
     "base_uri": "https://localhost:8080/"
    },
    "id": "IIEUtMgEo7TB",
    "outputId": "193165a3-a347-442c-b3c3-c1489d6d491b"
   },
   "outputs": [
    {
     "name": "stdout",
     "output_type": "stream",
     "text": [
      "Mounted at /content/gdrive\n"
     ]
    }
   ],
   "source": [
    "from google.colab import drive\n",
    "drive.mount('/content/gdrive')"
   ]
  },
  {
   "cell_type": "markdown",
   "metadata": {
    "id": "_zfezU4g3jBi"
   },
   "source": [
    "## Use IPython magic commands \n",
    "\n",
    "- Magic commands (initiated with `%%`) in a notebook can be used to accomplish a variety of tasks. \n",
    "- In this example, a shell cell will create a folder on our local Google Drive and move our new Colab notebook into it.\n",
    "- You can learn more about magic commands by visiting [link](https://colab.research.google.com/github/jakevdp/PythonDataScienceHandbook/blob/master/notebooks/01.03-Magic-Commands.ipynb)"
   ]
  },
  {
   "cell_type": "code",
   "execution_count": 2,
   "metadata": {
    "colab": {
     "base_uri": "https://localhost:8080/"
    },
    "id": "OWpmpOP2o9n6",
    "outputId": "4297ff90-95a1-4087-d7e9-aa3d6efd4839"
   },
   "outputs": [
    {
     "name": "stdout",
     "output_type": "stream",
     "text": [
      "Reproducible_Reporting.ipynb\n",
      "Reproducible_Reporting.pdf\n"
     ]
    }
   ],
   "source": [
    "%%bash\n",
    "mkdir -p gdrive/MyDrive/DEMON/\n",
    "if [ -f gdrive/MyDrive/Colab\\ Notebooks/oasis.ipynb ]; then \n",
    "  mv gdrive/MyDrive/Colab\\ Notebooks/oasis.ipynb gdrive/MyDrive/DEMON/oasis.ipynb\n",
    "fi\n",
    "ls gdrive/MyDrive/DEMON/"
   ]
  },
  {
   "cell_type": "markdown",
   "metadata": {
    "id": "fqAlIicN5ke_"
   },
   "source": [
    "## Saving the OASIS Data\n",
    " \n",
    "Once we have a local folder mounted in our virtual session we can save the data that we'll be using.\n",
    "\n",
    "To do this, we start by changing our current working directory using the `%cd` magic command."
   ]
  },
  {
   "cell_type": "code",
   "execution_count": 3,
   "metadata": {
    "colab": {
     "base_uri": "https://localhost:8080/"
    },
    "id": "sGzBChFIwsez",
    "outputId": "9745fc01-d099-45aa-e0ea-3080ac98287f"
   },
   "outputs": [
    {
     "name": "stdout",
     "output_type": "stream",
     "text": [
      "/content/gdrive/MyDrive/DEMON\n"
     ]
    }
   ],
   "source": [
    "%cd gdrive/MyDrive/DEMON/"
   ]
  },
  {
   "cell_type": "markdown",
   "metadata": {
    "id": "kyTsOqgkqlGi"
   },
   "source": [
    "Then we'll load the data into memory in this notebook, and then use `to_csv()` to save it to the current working directory."
   ]
  },
  {
   "cell_type": "code",
   "execution_count": 4,
   "metadata": {
    "id": "A31GqABdqj3j"
   },
   "outputs": [],
   "source": [
    "import pandas as pd\n",
    "\n",
    "df = pd.read_csv('http://www.oasis-brains.org/pdf/oasis_longitudinal.csv')\n",
    "df.to_csv('oasis_raw.csv')"
   ]
  },
  {
   "cell_type": "markdown",
   "metadata": {
    "id": "s_OI2kvL5Njt"
   },
   "source": [
    "## Notebooks make analysis easier\n",
    "Among the advantages of a notebook is the ability to pick up an analysis from where you left off last time.\n",
    "These include the notebook kernel, variables made, packages imported, and commands executed.\n",
    "\n",
    "Let's investigate this with the following two exercises:"
   ]
  },
  {
   "cell_type": "markdown",
   "metadata": {
    "id": "kLeYCNKk7hRP"
   },
   "source": [
    "> ### Starting where you left off\n",
    "> 1. Go to your open notebook\n",
    "> 1. Ensure the top cell has all the packages you need available. \n",
    "> 1. Press the play button to launch the cell (or press shift+enter).\n",
    "> \n",
    "> 1. Add the following to the empty cell below (or just copy and paste!): \n",
    "> \n",
    "> ```python \n",
    "> import numpy as np\n",
    "> x = np.random.randn(10) # Sample a vector of 10 numbers from the normal distribution\n",
    "> total = 0 \n",
    "> for value in x:\n",
    ">     total += value\n",
    "> print(total)\n",
    "> ```\n",
    "> 1. Rename the notebook `start_again.ipynb`\n",
    "> 1. Close the browser tab\n",
    "> 1. Reopen the notebook\n",
    "> 1. Type `x` or `total` in a cell and run it - these should be recognised by the `Colab` interpreter and have the same value as before.  "
   ]
  },
  {
   "cell_type": "code",
   "execution_count": 8,
   "metadata": {
    "colab": {
     "base_uri": "https://localhost:8080/"
    },
    "id": "IyhcNgYj6R9o",
    "outputId": "98979856-931b-4f9c-c28f-cca9a0819142"
   },
   "outputs": [
    {
     "data": {
      "text/plain": [
       "array([ 0.15872969, -0.25680134, -0.1102667 ,  0.56692093,  0.1241041 ,\n",
       "        1.51965837,  1.62610112, -0.92023229, -1.51431169,  0.36782038])"
      ]
     },
     "execution_count": 8,
     "metadata": {
      "tags": []
     },
     "output_type": "execute_result"
    }
   ],
   "source": [
    "x"
   ]
  },
  {
   "cell_type": "markdown",
   "metadata": {
    "id": "8cx57NA18HQN"
   },
   "source": [
    "> ### Colab is memoryless \n",
    "> 1. Importantly this only works as long as the notebook is on, i.e. the variables are stored in runtime memory.\n",
    "> 1. To emphasise this important issue, let's do another exercise \n",
    "> 1. In your colab tab open the Runtime menu and select `Restart runtime`\n",
    "> 1. Now rerun the cell which will now raise an error\n",
    "> 1. This is because the variables are no longer in memory. \n",
    "> 1. Furthermore if you open the Runtime menu and select `Run all` you will see that the results change \n",
    "> 1. This is because we are sampling random numbers from a different Generator instance (you can read more about this [here](https://numpy.org/doc/stable/reference/random/generator.html))\n",
    "> 1. See the following code:\n",
    ">\n",
    "> ```python\n",
    "> rng = np.random.default_rng(42) \n",
    "> x = rng.normal(size=10) \n",
    "> total = 0 \n",
    "> for value in x:\n",
    ">     total += value\n",
    "> print(total)\n",
    "> ```\n",
    "\n",
    "**Now if you reset your runtime the results will be the same every time**"
   ]
  },
  {
   "cell_type": "markdown",
   "metadata": {
    "id": "5G09eKyGJzz2"
   },
   "source": [
    "## Generate PDF reports from a notebook \n",
    "- One of the goals of this session was to show how you can export your notebook to a PDF report\n",
    "- To do this, you need to install some essential software on your virtual machine\n",
    "- We will use the `%%capture` magic command to supress the cell output (it's a lot!)\n",
    "- And use the `!` symbol to run bash line without the need to declare a bash cell"
   ]
  },
  {
   "cell_type": "code",
   "execution_count": 9,
   "metadata": {
    "id": "KNLLTDKE7caq"
   },
   "outputs": [],
   "source": [
    "%%capture\n",
    "!apt update\n",
    "!apt install texlive-xetex texlive-fonts-recommended texlive-generic-recommended"
   ]
  },
  {
   "cell_type": "markdown",
   "metadata": {
    "id": "r56SI1e7LxyU"
   },
   "source": [
    "## Export your notebook as a PDF report\n",
    "\n",
    "Below we will convert a notebook named `oasis.ipynb` (that we made earlier) to a PDF:"
   ]
  },
  {
   "cell_type": "code",
   "execution_count": 10,
   "metadata": {
    "colab": {
     "base_uri": "https://localhost:8080/"
    },
    "id": "Ch53Jo9oJZi_",
    "outputId": "3eff9906-da81-40ac-d737-a0eedb7c834b"
   },
   "outputs": [
    {
     "name": "stdout",
     "output_type": "stream",
     "text": [
      "[NbConvertApp] Converting notebook oasis.ipynb to pdf\n",
      "[NbConvertApp] Support files will be in oasis_files/\n",
      "[NbConvertApp] Making directory ./oasis_files\n",
      "[NbConvertApp] Making directory ./oasis_files\n",
      "[NbConvertApp] Making directory ./oasis_files\n",
      "[NbConvertApp] Making directory ./oasis_files\n",
      "[NbConvertApp] Making directory ./oasis_files\n",
      "[NbConvertApp] Making directory ./oasis_files\n",
      "[NbConvertApp] Making directory ./oasis_files\n",
      "[NbConvertApp] Writing 59602 bytes to ./notebook.tex\n",
      "[NbConvertApp] Building PDF\n",
      "[NbConvertApp] Running xelatex 3 times: [u'xelatex', u'./notebook.tex', '-quiet']\n",
      "[NbConvertApp] Running bibtex 1 time: [u'bibtex', u'./notebook']\n",
      "[NbConvertApp] WARNING | bibtex had problems, most likely because there were no citations\n",
      "[NbConvertApp] PDF successfully created\n",
      "[NbConvertApp] Writing 344981 bytes to oasis.pdf\n"
     ]
    }
   ],
   "source": [
    "!jupyter nbconvert oasis.ipynb --to pdf --output oasis.pdf"
   ]
  }
 ],
 "metadata": {
  "colab": {
   "collapsed_sections": [],
   "name": "python_markdown_intro.ipynb",
   "provenance": []
  },
  "kernelspec": {
   "display_name": "Python 3 (ipykernel)",
   "language": "python",
   "name": "python3"
  },
  "language_info": {
   "codemirror_mode": {
    "name": "ipython",
    "version": 3
   },
   "file_extension": ".py",
   "mimetype": "text/x-python",
   "name": "python",
   "nbconvert_exporter": "python",
   "pygments_lexer": "ipython3",
   "version": "3.7.9"
  }
 },
 "nbformat": 4,
 "nbformat_minor": 1
}
