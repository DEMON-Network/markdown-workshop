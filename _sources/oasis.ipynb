{
 "cells": [
  {
   "cell_type": "code",
   "execution_count": null,
   "metadata": {
    "tags": [
     "remove-cell"
    ]
   },
   "outputs": [],
   "source": [
    "import warnings\n",
    "warnings.filterwarnings('ignore')"
   ]
  },
  {
   "cell_type": "markdown",
   "metadata": {
    "id": "T6EeF_JSqkGr"
   },
   "source": [
    "# Literate programming, Markdown & Colab\n",
    "\n",
    "Let's start with the definition of literate programming (from Wikipedia):\n",
    "\n",
    "> *Literate programming is a programming paradigm introduced by Donald Knuth in which a computer program is given an explanation of its logic in a natural language, such as English, interspersed with snippets of macros and traditional source code, from which compilable source code can be generated.*\n",
    "\n",
    "Jupyter notebook is a method for performing literate programming and is a powerful way of presenting your analysis in a way that's easy to code and easy to read. The \"snippets of source code\" are your Python syntax. The \"explanation of the its logic in a natural language\" is your analysis report.\n",
    "\n",
    "This lesson will draw heavily from the following excellent resources:\n",
    "\n",
    "> ## Markdown Colaboratory further reading\n",
    "> * [Welcome To Colaboratory](https://colab.research.google.com/notebooks/intro.ipynb?utm_source=scs-index) - An extensive tutorial\n",
    "> * [Reference (pdf)](https://rstudio.com/wp-content/uploads/2015/03/rmarkdown-reference.pdf) - A 5 page reference of commands and concepts. \n",
    "> * [Cheatsheet (pdf)](https://rstudio.com/wp-content/uploads/2016/03/rmarkdown-cheatsheet-2.0.pdf) - A 2 page summary of the most important elements. \n",
    "{: .callout}"
   ]
  },
  {
   "cell_type": "markdown",
   "metadata": {
    "id": "CSv3EawirKZM"
   },
   "source": [
    "## Markdown - what is it?\n",
    "\n",
    "**Markdown** is a simple plain-text language that can be turned into formatted text, e.g., webpages, forum posts (stackexchange, Github) etc. \n",
    "\n",
    "**Markdown** allows you to incorporate code  within the\n",
    "final document. It can be turned into HTML, pdfs, word documents, books, theses etc. as well. \n",
    "\n",
    "The Carpentries courses (i.e., this course) are written using `Markdown`. "
   ]
  },
  {
   "cell_type": "markdown",
   "metadata": {
    "id": "CNY2FyL2sdA5"
   },
   "source": [
    "## Markdown -  what's it good for?\n",
    "\n",
    "Consider your normal data analysis workflow. It's probably something like this:\n",
    "\n",
    "#### 1. Conventional workflow\n",
    "1. Do some data analysis in an `python` script. Use comments to help reader understand. \n",
    "2. Save plots, tables, etc. in separate files (`fig1.png`, `tab1.csv`, etc.). \n",
    "2. Write report in Word and insert figures, tables etc. \n",
    "\n",
    "*Updating/changing analysis*: Edit `python` scripts, Word document, insert figures, potentially change figure lables, `fig1.png`-> `fig2.png` etc..  \n",
    "\n",
    "*Sharing analysis*: Share data, R scripts, plots, tables, Word/Latex files. Also include how all the parts relate to each other in a README. \n",
    "\n",
    "With `Colab` your workflow will be more like this: \n",
    "\n",
    "#### 2. Literate programming workflow\n",
    "1. Do some data analysis in an `Colab` Notebook. All figures, tables are displayed in line - no need to save sepate files.  \n",
    "2. Write your report around the code in the `Colab` file. The narrative of the analysis helps the reader understand the code.  \n",
    "3. One-click to create formatted Word/HTML/pdf report, or, one-click to publish to the web (requires setup - not covered in this course).  \n",
    "\n",
    "*Updating/changing analysis*: Edit the single `Colab` file and click to create report. \n",
    "\n",
    "*Sharing analysis*: Share data and the single `Colab` file. \n",
    "\n",
    "This difference can be seen in the figure below which shows two directory structures the top \n",
    "with the conventional workflow, the bottom with the literate programming workflow. \n",
    "\n",
    "<!-- ![comparison](../fig/literate_vs_conventional.png) -->\n",
    "\n",
    "Of course for larger projects, you may have more than one `Colab` file and you may have separate analysis scripts as well. "
   ]
  },
  {
   "cell_type": "markdown",
   "metadata": {
    "id": "abdfz3mTvJZp"
   },
   "source": [
    "## Goals for this episode\n",
    "This episode will familiarise you with all the main features of working with either `Jupyter Lab` or `Colab`. \n",
    "We will be demonstrating the following features:\n",
    "1. Organising analysis into `Notebooks`;\n",
    "1. Tools for writing and running Python code;"
   ]
  },
  {
   "cell_type": "markdown",
   "metadata": {
    "id": "B0_EwCYgvSVr"
   },
   "source": [
    "# Notebooks depend on kernels \n",
    "\n",
    "If you're using Jupyter Lab locally or from a host provider, kernels are a big issue because it allows you to use the same notebook infrastructure across different programming languages (e.g. R, Python, Bash, Javascript etc).\n",
    "At the moment, Colab does not support these capabilities and only supports Python. "
   ]
  },
  {
   "cell_type": "markdown",
   "metadata": {
    "id": "EF8eVdlSvVAM"
   },
   "source": [
    "# Analysis is contained within notebooks \n",
    "\n",
    "The `notebook` keeps track of settings tied to a particular data analysis project. <br> \n",
    "A `notebook` consists of a list of cells containing either explanatory text or executable code with its output. <br> \n",
    "A folder hierarchy is common when starting a new project, which contains all the relevant data for others to replicate your work.<br>\n",
    "When creating notebooks, it is good practice to use consistent naming conventions so that different information can be included, such as the topic of analysis, the date of creation, and the notebook creator.<br>\n",
    "You can keep working on your project by just opening up the relevant Jupyter notebook in the corresponding Folder."
   ]
  },
  {
   "cell_type": "markdown",
   "metadata": {
    "id": "pVUbmTUxvY8G"
   },
   "source": [
    "## Setting up a new `Python` project using `Colab`\n",
    "\n",
    "For your first project please complete the exercise below. \n",
    "\n",
    "> ## Create a new `Colab` notebook\n",
    "> 1. Just click [here](https://colab.research.google.com/#create=true) to spawn a new Jupyter notebook in Colab\n",
    "> 1. Change the notebook name at the top to `oasis.ipynb`\n",
    "> 4. Add the following code to upload the packages we will be using today \n",
    ">\n",
    "> ```python\n",
    ">     import pandas as pd \n",
    ">     import numpy as np\n",
    ">     import matplotlib.pyplot as plt\n",
    ">     import seaborn as sns\n",
    "> ```\n",
    "> 1. Download the dataset we will be working by entering the following code in the top cell \n",
    ">\n",
    "> ```python\n",
    ">     df = pd.read_csv('http://www.oasis-brains.org/pdf/oasis_longitudinal.csv')\n",
    "> ```"
   ]
  },
  {
   "cell_type": "code",
   "execution_count": null,
   "metadata": {
    "id": "uKWr2bHvosoE"
   },
   "outputs": [],
   "source": [
    "import pandas as pd \n",
    "import numpy as np\n",
    "import matplotlib.pyplot as plt\n",
    "import seaborn as sns"
   ]
  },
  {
   "cell_type": "code",
   "execution_count": null,
   "metadata": {
    "id": "0IQDC2Pxo4lk"
   },
   "outputs": [],
   "source": [
    "df = pd.read_csv('http://www.oasis-brains.org/pdf/oasis_longitudinal.csv')"
   ]
  },
  {
   "cell_type": "markdown",
   "metadata": {
    "id": "qrYvIjvPwL8S"
   },
   "source": [
    "## Working on a specific folder in drive\n",
    "\n",
    "The following step is technically not necessary if you intend to use Colab right away. <br>\n",
    "However, since Colab is storing its work on your hard drive, it would be a good idea to specify which folder it will be using. <br>\n",
    "You would create a folder in your drive and then use the new button to spawn the Colab notebook inside that folder.<br>"
   ]
  },
  {
   "cell_type": "markdown",
   "metadata": {
    "id": "-yCjXhVOwOnJ"
   },
   "source": [
    "Mount your drive in the Colab container.\n",
    "The following code can also be used to mount your entire drive so it is accessible from your notebook (this requires a gmail account and your approval).\n",
    "\n",
    "~~~python\n",
    "from google.colab import drive\n",
    "drive.mount('/content/gdrive')\n",
    "~~~"
   ]
  },
  {
   "cell_type": "code",
   "execution_count": null,
   "metadata": {
    "colab": {
     "base_uri": "https://localhost:8080/"
    },
    "id": "IIEUtMgEo7TB",
    "outputId": "891ce79d-34c5-4b2e-9b72-160ebe13fdaa"
   },
   "outputs": [
    {
     "name": "stdout",
     "output_type": "stream",
     "text": [
      "Mounted at /content/gdrive\n"
     ]
    }
   ],
   "source": [
    "from google.colab import drive\n",
    "drive.mount('/content/gdrive')"
   ]
  },
  {
   "cell_type": "markdown",
   "metadata": {
    "id": "_zfezU4g3jBi"
   },
   "source": [
    "## Use Ipython magic commands \n",
    "\n",
    "- Magic commands (initiated with *%%*) in a notebook can be used to accomplish a variety of tasks. \n",
    "- In this example, a shell cell will create a folder on our local Google drive and move our new Colab  notebook into it.\n",
    "- You can learn more about magic commands by visiting [link](https://colab.research.google.com/github/jakevdp/PythonDataScienceHandbook/blob/master/notebooks/01.03-Magic-Commands.ipynb)"
   ]
  },
  {
   "cell_type": "code",
   "execution_count": null,
   "metadata": {
    "colab": {
     "base_uri": "https://localhost:8080/"
    },
    "id": "OWpmpOP2o9n6",
    "outputId": "a5095662-e7fb-40ee-8d9c-4d8bf09634ba"
   },
   "outputs": [
    {
     "name": "stdout",
     "output_type": "stream",
     "text": [
      "oasis.ipynb\n"
     ]
    }
   ],
   "source": [
    "%%bash\n",
    "mkdir -p gdrive/MyDrive/DEMON/\n",
    "if [ -f gdrive/MyDrive/Colab\\ Notebooks/oasis.ipynb ]; then \n",
    "  mv gdrive/MyDrive/Colab\\ Notebooks/oasis.ipynb gdrive/MyDrive/DEMON/oasis.ipynb\n",
    "fi\n",
    "ls gdrive/MyDrive/DEMON/"
   ]
  },
  {
   "cell_type": "markdown",
   "metadata": {
    "id": "fqAlIicN5ke_"
   },
   "source": [
    "## Save the data in the newly created folder\n",
    " \n",
    "Once we have a local folder mounted in our virtual session we should also save the data. \n",
    "\n",
    "We start by changing our current working directory using the `%cd` magic command. \n",
    "\n",
    "~~~python\n",
    "%cd gdrive/MyDrive/DEMON/\n",
    "~~~\n",
    "\n",
    "Then we will use the `to_csv` method to save the data localy\n",
    "\n",
    "~~~python\n",
    "df.to_csv('oasis_raw.csv')\n",
    "~~~"
   ]
  },
  {
   "cell_type": "code",
   "execution_count": null,
   "metadata": {
    "colab": {
     "base_uri": "https://localhost:8080/"
    },
    "id": "sGzBChFIwsez",
    "outputId": "a67518eb-c147-4fc7-d3c6-6b3a524919f8"
   },
   "outputs": [
    {
     "name": "stdout",
     "output_type": "stream",
     "text": [
      "/content/gdrive/MyDrive/DEMON\n"
     ]
    }
   ],
   "source": [
    "%cd gdrive/MyDrive/DEMON/"
   ]
  },
  {
   "cell_type": "code",
   "execution_count": null,
   "metadata": {
    "id": "rtTZ1q3XxYPj"
   },
   "outputs": [],
   "source": [
    "df.to_csv('oasis_raw.csv')"
   ]
  },
  {
   "cell_type": "markdown",
   "metadata": {
    "id": "s_OI2kvL5Njt"
   },
   "source": [
    "## Notebooks make analysis easier\n",
    "Among the advantages of a notebook is the ability to pick up an analysis from where you left off last time.\n",
    "These include the notebook kernel, variables made, packages imported, and commands executed.\n",
    "\n",
    "Let's investigate this with the following two exercises:"
   ]
  },
  {
   "cell_type": "markdown",
   "metadata": {
    "id": "kLeYCNKk7hRP"
   },
   "source": [
    "> ## Starting where you left off\n",
    "> 1. Go to your open notebook\n",
    "> 1. Ensure the top cell has all the packages you need available. \n",
    "> 1. Press the play button to launch the cell (or press shift+enter).\n",
    "> \n",
    "> 1. Add the following to the empty cell below (or just copy and paste!): \n",
    "> \n",
    "> ```python \n",
    ">     x = np.random.randn(10) # Sample a vector of 10 numbers from the normal distribution\n",
    ">     total = 0 \n",
    ">     for value in x:\n",
    ">       total += value\n",
    ">     total\n",
    "> ```\n",
    "> 1. Rename the notebook `start_again.ipynb`\n",
    "> 1. Close the browser tab\n",
    "> 1. Reopen the notebook\n",
    "> 1. Type `x` or `total` in a cell and run it - these should be recognised by the `Colab` interpreter and have the same value as before.  "
   ]
  },
  {
   "cell_type": "code",
   "execution_count": null,
   "metadata": {
    "colab": {
     "base_uri": "https://localhost:8080/"
    },
    "id": "IyhcNgYj6R9o",
    "outputId": "17339b6d-70a4-40f8-c711-86da3f990096"
   },
   "outputs": [
    {
     "data": {
      "text/plain": [
       "array([-0.08409464, -0.52748811,  0.22402034,  1.91797563,  1.39013786,\n",
       "       -0.54965253,  0.71944841,  0.76520252, -1.16918544,  1.05141679])"
      ]
     },
     "execution_count": 35,
     "metadata": {
      "tags": []
     },
     "output_type": "execute_result"
    }
   ],
   "source": [
    "x"
   ]
  },
  {
   "cell_type": "markdown",
   "metadata": {
    "id": "8cx57NA18HQN"
   },
   "source": [
    "> ## Colab is memoryless \n",
    "> 1. Importantly this only works as long as the notebook is on, i.e. the variables are stored in runtime memory.\n",
    "> 1. To emphasise this important issue let's do another exercise \n",
    "> 1. In your colab tab open the Runtime menu and select `Restart runtime`\n",
    "> 1. Now rerun the cell which will now raise an error\n",
    "> 1. This is because the variables are no longer in memory. \n",
    "> 1. Furthermore if you open the Runtime menu and select `Run all` you will see that the results change \n",
    "> 1. This is because we are sampling random numbers from a different Generator instance (you can read more about this [here](https://numpy.org/doc/stable/reference/random/generator.html)\n",
    "> 1. For this problem, a better solution would be to construct a new Generator with 42 as a SeedSequence making sure that the sampling is identical\n",
    "> 1. See the following code:\n",
    ">\n",
    "> ```python \n",
    ">     rng = np.random.default_rng(42) \n",
    ">     x = rng.normal(size=10) \n",
    ">     total = 0 \n",
    ">     for value in x:\n",
    ">       total += value\n",
    ">     total\n",
    "> ```\n",
    "\n",
    "#### Now if you reset your runtime the results will be the same every time "
   ]
  },
  {
   "cell_type": "markdown",
   "metadata": {
    "id": "5G09eKyGJzz2"
   },
   "source": [
    "## Generate pdf reports from a notebook \n",
    "- One of the goals of this session is to show how you can export your notebook to a PDF report\n",
    "- To do this, you need to install some essential software on your virtual machine\n",
    "- We will use the `%%capture` magic command to supress the cell output \n",
    "- And use the `!` symbol to run bash line without the need to declare a bash cell "
   ]
  },
  {
   "cell_type": "code",
   "execution_count": null,
   "metadata": {
    "id": "KNLLTDKE7caq"
   },
   "outputs": [],
   "source": [
    "%%capture\n",
    "!apt update\n",
    "!apt install texlive-xetex texlive-fonts-recommended texlive-generic-recommended"
   ]
  },
  {
   "cell_type": "markdown",
   "metadata": {
    "id": "r56SI1e7LxyU"
   },
   "source": [
    "## Now you have the ability to export your notebook as a pdf report "
   ]
  },
  {
   "cell_type": "code",
   "execution_count": null,
   "metadata": {
    "colab": {
     "base_uri": "https://localhost:8080/"
    },
    "id": "Ch53Jo9oJZi_",
    "outputId": "6eeff902-1163-4d0d-b45a-ee0e3df97d21"
   },
   "outputs": [
    {
     "name": "stdout",
     "output_type": "stream",
     "text": [
      "[NbConvertApp] Converting notebook oasis.ipynb to pdf\n",
      "[NbConvertApp] Writing 39023 bytes to ./notebook.tex\n",
      "[NbConvertApp] Building PDF\n",
      "[NbConvertApp] Running xelatex 3 times: [u'xelatex', u'./notebook.tex', '-quiet']\n",
      "[NbConvertApp] Running bibtex 1 time: [u'bibtex', u'./notebook']\n",
      "[NbConvertApp] WARNING | bibtex had problems, most likely because there were no citations\n",
      "[NbConvertApp] PDF successfully created\n",
      "[NbConvertApp] Writing 50427 bytes to oasis.pdf\n"
     ]
    }
   ],
   "source": [
    "!jupyter nbconvert oasis.ipynb --to pdf --output oasis.pdf"
   ]
  },
  {
   "cell_type": "code",
   "execution_count": null,
   "metadata": {
    "id": "qrqjYOuGQNnL"
   },
   "outputs": [],
   "source": []
  },
  {
   "cell_type": "code",
   "execution_count": null,
   "metadata": {
    "id": "5afiC9S9LlLj"
   },
   "outputs": [],
   "source": []
  }
 ],
 "metadata": {
  "celltoolbar": "Edit Metadata",
  "colab": {
   "collapsed_sections": [],
   "name": "oasis.ipynb",
   "provenance": []
  },
  "kernelspec": {
   "display_name": "Python 3 (ipykernel)",
   "language": "python",
   "name": "python3"
  },
  "language_info": {
   "codemirror_mode": {
    "name": "ipython",
    "version": 3
   },
   "file_extension": ".py",
   "mimetype": "text/x-python",
   "name": "python",
   "nbconvert_exporter": "python",
   "pygments_lexer": "ipython3",
   "version": "3.7.9"
  }
 },
 "nbformat": 4,
 "nbformat_minor": 1
}
